{
 "cells": [
  {
   "cell_type": "code",
   "execution_count": 10,
   "id": "b01d8a94",
   "metadata": {},
   "outputs": [
    {
     "name": "stdout",
     "output_type": "stream",
     "text": [
      "Table created successfully!\n"
     ]
    }
   ],
   "source": [
    "import psycopg2, os\n",
    "from psycopg2 import OperationalError, InterfaceError, DatabaseError\n",
    "from dotenv import load_dotenv\n",
    "\n",
    "load_dotenv()\n",
    "\n",
    "DB_URL = os.getenv(\"DATABASE_URL\")\n",
    "conn = psycopg2.connect(DB_URL)\n",
    "cur = conn.cursor()\n",
    "\n",
    "# ✅ Create table correctly\n",
    "cur.execute(\"\"\"\n",
    "CREATE TABLE IF NOT EXISTS transactions (\n",
    "    id SERIAL PRIMARY KEY,\n",
    "    amount DECIMAL NOT NULL,\n",
    "    category VARCHAR(50) NOT NULL,\n",
    "    date TIMESTAMP NOT NULL,\n",
    "    description TEXT\n",
    ");\n",
    "\"\"\")\n",
    "\n",
    "conn.commit()\n",
    "print(\"Table created successfully!\")\n",
    "\n",
    "cur.close()\n",
    "conn.close()\n"
   ]
  },
  {
   "cell_type": "code",
   "execution_count": null,
   "id": "838146f9",
   "metadata": {},
   "outputs": [],
   "source": [
    "\n",
    "\n",
    "\n",
    "\n",
    "\n",
    "query_to_delete_transaction_table = \"DROP TABLE IF EXISTS transactions;\"\n",
    "run_sql_query(query_to_delete_transaction_table)\n"
   ]
  }
 ],
 "metadata": {
  "kernelspec": {
   "display_name": "venv",
   "language": "python",
   "name": "python3"
  },
  "language_info": {
   "codemirror_mode": {
    "name": "ipython",
    "version": 3
   },
   "file_extension": ".py",
   "mimetype": "text/x-python",
   "name": "python",
   "nbconvert_exporter": "python",
   "pygments_lexer": "ipython3",
   "version": "3.13.7"
  }
 },
 "nbformat": 4,
 "nbformat_minor": 5
}
