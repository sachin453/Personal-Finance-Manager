{
 "cells": [
  {
   "cell_type": "code",
   "execution_count": 3,
   "id": "be8df8f8",
   "metadata": {},
   "outputs": [],
   "source": [
    "from dotenv import load_dotenv\n",
    "load_dotenv()\n",
    "from agents.common_tools import tools\n",
    "from agents.chatbot import ChatbotAgent\n",
    "\n",
    "\n",
    "config = { 'configurable': { 'thread_id' : '1'} }"
   ]
  },
  {
   "cell_type": "code",
   "execution_count": 5,
   "id": "823c3261",
   "metadata": {},
   "outputs": [],
   "source": [
    "my_chatbot = ChatbotAgent(name=\"FinanceBot\", tools=tools)"
   ]
  },
  {
   "cell_type": "code",
   "execution_count": 6,
   "id": "aaafbabd",
   "metadata": {},
   "outputs": [
    {
     "name": "stdout",
     "output_type": "stream",
     "text": [
      "User: Hello!\n",
      "Bot: Hello! How can I help you today?\n",
      "User: I want some help!\n",
      "Bot: I can help with questions related to your financial documents, like summarizing account statements, extracting transaction details, or analyzing money received. What kind of help are you looking for?\n",
      "User: I dont need help regarding finance right now. Tell me who won Asia Cup 2025?\n",
      "Bot: India won the Asia Cup 2025, defeating Pakistan by 5 wickets in the final.\n",
      "User: How did you got to know this?\n",
      "Bot: I used Google Search to find out who won the Asia Cup 2025.\n",
      "User: Very good. Tell me what is 56789 multiplied by 1234?\n",
      "Bot: 56789 multiplied by 1234 is 70,077,626.\n",
      "User: Add 345 to it\n",
      "Bot: 70,077,626 plus 345 is 70,077,971.\n",
      "User: Whats the date today?\n",
      "Bot: Today's date is 2025-10-07.\n",
      "User: Okay, now tell me how much I spent in last month?\n",
      "Bot: I can help you with that, but I'll need to access your financial documents. Do you have any bank statements or credit card statements from last month that I can look at? If so, please let me know the file names.\n",
      "User: You can access my statement in data directory, right?\n",
      "Bot: Yes, I can access files in the data directory. I see a file named `Paytm_UPI_Statement_07_Sep'25_-_06_Oct'25.pdf`. Would you like me to analyze this statement to tell you how much you spent last month?\n",
      "User: Yes Yes\n",
      "Bot: According to your Paytm UPI Statement from September 7, 2025, to October 6, 2025, your total money paid was Rs. 88,425.22.\n",
      "User: Cool\n",
      "Bot: Is there anything else I can help you with regarding your financial statements or any other questions you might have?\n",
      "User: exit\n"
     ]
    }
   ],
   "source": [
    "my_chatbot.run(config)"
   ]
  }
 ],
 "metadata": {
  "kernelspec": {
   "display_name": "venv",
   "language": "python",
   "name": "python3"
  },
  "language_info": {
   "codemirror_mode": {
    "name": "ipython",
    "version": 3
   },
   "file_extension": ".py",
   "mimetype": "text/x-python",
   "name": "python",
   "nbconvert_exporter": "python",
   "pygments_lexer": "ipython3",
   "version": "3.13.7"
  }
 },
 "nbformat": 4,
 "nbformat_minor": 5
}
