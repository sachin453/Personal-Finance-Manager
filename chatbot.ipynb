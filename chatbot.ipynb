{
 "cells": [
  {
   "cell_type": "code",
   "execution_count": 1,
   "id": "be8df8f8",
   "metadata": {},
   "outputs": [],
   "source": [
    "from dotenv import load_dotenv\n",
    "load_dotenv()\n",
    "from agents.common_tools import tools\n",
    "from agents.chatbot import ChatbotAgent\n",
    "\n",
    "\n",
    "config = { 'configurable': { 'thread_id' : '1'} }"
   ]
  },
  {
   "cell_type": "code",
   "execution_count": 2,
   "id": "823c3261",
   "metadata": {},
   "outputs": [],
   "source": [
    "my_chatbot = ChatbotAgent(name=\"FinanceBot\", tools=tools)"
   ]
  },
  {
   "cell_type": "code",
   "execution_count": 3,
   "id": "aaafbabd",
   "metadata": {},
   "outputs": [
    {
     "name": "stdout",
     "output_type": "stream",
     "text": [
      "User: Hello\n",
      "Bot: Hello! How can I help you today?\n",
      "User: exit\n"
     ]
    }
   ],
   "source": [
    "my_chatbot.run(config)"
   ]
  },
  {
   "cell_type": "code",
   "execution_count": 3,
   "id": "b9755995",
   "metadata": {},
   "outputs": [
    {
     "data": {
      "text/plain": [
       "'Hello! How can I help you today?'"
      ]
     },
     "execution_count": 3,
     "metadata": {},
     "output_type": "execute_result"
    }
   ],
   "source": [
    "my_chatbot.dialogue(\"Hello\")"
   ]
  },
  {
   "cell_type": "code",
   "execution_count": 4,
   "id": "78e6800a",
   "metadata": {},
   "outputs": [
    {
     "data": {
      "text/plain": [
       "'Nice to meet you, Sachin! Is there anything I can help you with regarding your finances today?'"
      ]
     },
     "execution_count": 4,
     "metadata": {},
     "output_type": "execute_result"
    }
   ],
   "source": [
    "my_chatbot.dialogue(\"My name is Sachin and I am 25 years old.\")"
   ]
  },
  {
   "cell_type": "code",
   "execution_count": 5,
   "id": "c8015bed",
   "metadata": {},
   "outputs": [
    {
     "data": {
      "text/plain": [
       "'Your name is Sachin and you are 25 years old.'"
      ]
     },
     "execution_count": 5,
     "metadata": {},
     "output_type": "execute_result"
    }
   ],
   "source": [
    "my_chatbot.dialogue(\"What is my name and age?\")"
   ]
  }
 ],
 "metadata": {
  "kernelspec": {
   "display_name": "venv",
   "language": "python",
   "name": "python3"
  },
  "language_info": {
   "codemirror_mode": {
    "name": "ipython",
    "version": 3
   },
   "file_extension": ".py",
   "mimetype": "text/x-python",
   "name": "python",
   "nbconvert_exporter": "python",
   "pygments_lexer": "ipython3",
   "version": "3.13.7"
  }
 },
 "nbformat": 4,
 "nbformat_minor": 5
}
