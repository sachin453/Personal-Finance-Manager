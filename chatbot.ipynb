{
 "cells": [
  {
   "cell_type": "code",
   "execution_count": 1,
   "id": "be8df8f8",
   "metadata": {},
   "outputs": [],
   "source": [
    "from dotenv import load_dotenv\n",
    "load_dotenv()\n",
    "from agents.common_tools import tools\n",
    "from agents.chatbot import ChatbotAgent\n",
    "\n",
    "\n",
    "config = { 'configurable': { 'thread_id' : '1'} }"
   ]
  },
  {
   "cell_type": "code",
   "execution_count": 2,
   "id": "823c3261",
   "metadata": {},
   "outputs": [],
   "source": [
    "my_chatbot = ChatbotAgent(name=\"FinanceBot\", tools=tools)"
   ]
  },
  {
   "cell_type": "code",
   "execution_count": 3,
   "id": "aaafbabd",
   "metadata": {},
   "outputs": [
    {
     "name": "stdout",
     "output_type": "stream",
     "text": [
      "User: Hello\n",
      "Bot: Hello! How can I help you today?\n",
      "User: exit\n"
     ]
    }
   ],
   "source": [
    "my_chatbot.run(config)"
   ]
  }
 ],
 "metadata": {
  "kernelspec": {
   "display_name": "venv",
   "language": "python",
   "name": "python3"
  },
  "language_info": {
   "codemirror_mode": {
    "name": "ipython",
    "version": 3
   },
   "file_extension": ".py",
   "mimetype": "text/x-python",
   "name": "python",
   "nbconvert_exporter": "python",
   "pygments_lexer": "ipython3",
   "version": "3.13.7"
  }
 },
 "nbformat": 4,
 "nbformat_minor": 5
}
